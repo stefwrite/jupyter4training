{
 "cells": [
  {
   "cell_type": "code",
   "execution_count": 18,
   "id": "a9037aa9",
   "metadata": {},
   "outputs": [
    {
     "data": {
      "application/vnd.jupyter.widget-view+json": {
       "model_id": "607e5a7098f44c8bb14175ffd72ad8aa",
       "version_major": 2,
       "version_minor": 0
      },
      "text/plain": [
       "VBox(children=(Output(), RadioButtons(options=(('Atlantic', 0), ('Pacific', 1), ('Arctic', 2), ('Indian', 3)),…"
      ]
     },
     "metadata": {},
     "output_type": "display_data"
    }
   ],
   "source": [
    "import ipywidgets as widgets\n",
    "from IPython.display import display\n",
    "from IPython.display import clear_output\n",
    "\n",
    "def multipleChoiceQuestion(prompt, answerChoices, correctAnswer):\n",
    "    if correctAnswer not in answerChoices:\n",
    "        answerChoices.append(correctAnswer)\n",
    "    \n",
    "    correctAnswerIndex = answerChoices.index(correctAnswer)\n",
    "    \n",
    "    answerChoicesList = [(words, i) for i, words in enumerate(answerChoices)]\n",
    "    question = widgets.RadioButtons(\n",
    "        options = answerChoicesList,\n",
    "        description = '',\n",
    "        disabled = False\n",
    "    )\n",
    "    \n",
    "    promptOut = widgets.Output()\n",
    "    with promptOut:\n",
    "        print(prompt)\n",
    "       \n",
    "    feedback = widgets.Output()\n",
    "    \n",
    "    def check_selection(b):\n",
    "        ans = int(question.value)\n",
    "        if ans==correctAnswerIndex:\n",
    "            s = '\\x1b[6;30;42m' + \"You got it!\" + '\\x1b[0m' +\"\\n\" #green color\n",
    "        else:\n",
    "            s = '\\x1b[5;30;41m' + \"That's not right.\" + '\\x1b[0m' +\"\\n\" #red color\n",
    "        with feedback:\n",
    "            clear_output()\n",
    "            print(s)\n",
    "        return\n",
    "    \n",
    "    check = widgets.Button(description=\"Submit\")\n",
    "    check.on_click(check_selection)\n",
    "    \n",
    "    return widgets.VBox([promptOut, question, check, feedback])\n",
    "\n",
    "    #testOutput = [widgets.Label(str(i)) for i in (prompt,answerChoices,correctAnswer)]\n",
    "    #return widgets.VBox(testOutput)\n",
    "\n",
    "Q1 = multipleChoiceQuestion(\"What ocean is on North Carolina's coastline?\",['Atlantic','Pacific','Arctic','Indian'],'Atlantic')\n",
    "\n",
    "display(Q1)"
   ]
  },
  {
   "cell_type": "code",
   "execution_count": null,
   "id": "6b94a2c6",
   "metadata": {},
   "outputs": [],
   "source": []
  }
 ],
 "metadata": {
  "kernelspec": {
   "display_name": "Python 3 (ipykernel)",
   "language": "python",
   "name": "python3"
  },
  "language_info": {
   "codemirror_mode": {
    "name": "ipython",
    "version": 3
   },
   "file_extension": ".py",
   "mimetype": "text/x-python",
   "name": "python",
   "nbconvert_exporter": "python",
   "pygments_lexer": "ipython3",
   "version": "3.9.8"
  }
 },
 "nbformat": 4,
 "nbformat_minor": 5
}
