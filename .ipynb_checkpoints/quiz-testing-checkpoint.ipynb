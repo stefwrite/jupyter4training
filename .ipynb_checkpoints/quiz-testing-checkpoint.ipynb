{
 "cells": [
  {
   "cell_type": "markdown",
   "id": "6c99ee00",
   "metadata": {},
   "source": [
    "# Developing a quiz prototype to use in JN\n",
    "\n",
    "This development started after realizing that the \"jupyter-quiz\" project in GitHub wasn't going to meet our needs for training content. Given that project seems to have gone cold, I thought it best to take a fresh approach.\n",
    "\n",
    "I found some forums where people have been working on things like this before for JN, so I started by adapting some code I found here.\n",
    "\n",
    "As part of making this work, I had to make sure I had installed and enabled *ipywidgets*. I had a little trouble with this, so I'm sharing the three commands I used on my macOS to get things set up:\n",
    "~~~\n",
    "> pip install jupyter-js-widgets-nbextension\n",
    "> jupyter nbextension install --user --py widgetsnbextension\n",
    "> jupyter nbextension enable --user --py widgetsnbextension\n",
    "~~~\n",
    "After running these commands, the notebooks I ran locally could import and use from ipywidgets.\n",
    "\n",
    "The rest of this notebook is the experiments applying widgets and Python code to set up different types of questions and different ways of processing the question feedback.\n",
    "\n",
    "[Widgets list](https://ipywidgets.readthedocs.io/en/latest/examples/Widget%20List.html)\n",
    "\n",
    "(Stephanie Watson, 18 Nov 2021)\n"
   ]
  },
  {
   "cell_type": "code",
   "execution_count": 95,
   "id": "a9037aa9",
   "metadata": {},
   "outputs": [
    {
     "data": {
      "application/vnd.jupyter.widget-view+json": {
       "model_id": "aeed2ce6922f4c39a0801a5422f672b3",
       "version_major": 2,
       "version_minor": 0
      },
      "text/plain": [
       "VBox(children=(Label(value=\"What ocean is on North Carolina's coastline?\"), RadioButtons(options=(('Atlantic',…"
      ]
     },
     "metadata": {},
     "output_type": "display_data"
    }
   ],
   "source": [
    "# Multiple choice question with a single correct answer choice, designed for Jupyter Notebook\n",
    "import ipywidgets as widgets\n",
    "from IPython.display import display\n",
    "from IPython.display import clear_output\n",
    "\n",
    "def multipleChoiceSingleAnswer(prompt, answerChoices, correctAnswerIndex):\n",
    "    \n",
    "    # Enumerate the answer choices, then set an index on which choice is correct\n",
    "    answerChoicesList = [(choices, i) for i, choices in enumerate(answerChoices)]\n",
    "    \n",
    "    # Prepare the answer choices for output as radio buttons using the enumerated answer choices\n",
    "    answerChoiceLayout = widgets.RadioButtons(\n",
    "        options = answerChoicesList,\n",
    "        description = '',\n",
    "        disabled = False\n",
    "    )\n",
    "    \n",
    "    # Prepare the prompt for output\n",
    "    printPrompt = widgets.Label(value = prompt)\n",
    "       \n",
    "    feedback = widgets.Output()\n",
    "    \n",
    "    def check_selection(b):\n",
    "        # TO DO: Clean this up... this is using what we found in the original code\n",
    "        ans = int(answerChoiceLayout.value)\n",
    "        if ans==correctAnswerIndex:\n",
    "            s = \"You got it!\"\n",
    "        else:\n",
    "            s = \"That's not right.\"\n",
    "        with feedback:\n",
    "            clear_output()\n",
    "            print(s)\n",
    "        return\n",
    "    \n",
    "    check = widgets.Button(description=\"Submit\")\n",
    "    check.on_click(check_selection)\n",
    "    \n",
    "    return widgets.VBox([printPrompt, answerChoiceLayout, check, feedback])\n",
    "\n",
    "Q1 = multipleChoiceSingleAnswer(\"What ocean is on North Carolina's coastline?\",['Atlantic','Pacific','Arctic','Indian'],0)\n",
    "\n",
    "display(Q1)"
   ]
  },
  {
   "cell_type": "code",
   "execution_count": 97,
   "id": "6b94a2c6",
   "metadata": {},
   "outputs": [
    {
     "data": {
      "application/vnd.jupyter.widget-view+json": {
       "model_id": "a0641092a64846e9b9fb81f52a72bc35",
       "version_major": 2,
       "version_minor": 0
      },
      "text/plain": [
       "VBox(children=(Label(value='Which of these protocols are stateless? (Select all that apply.)'), VBox(children=…"
      ]
     },
     "metadata": {},
     "output_type": "display_data"
    }
   ],
   "source": [
    "# Multiple choice question with one or more correct answer choices, designed for Jupyter Notebook\n",
    "import ipywidgets as widgets\n",
    "from IPython.display import display\n",
    "from IPython.display import clear_output\n",
    "\n",
    "def multipleChoiceMultipleAnswer(prompt, answerChoices, correctAnswers):\n",
    "    \n",
    "    # Enumerate the answer choices\n",
    "    answerChoicesList = [(choices, i) for i, choices in enumerate(answerChoices)]\n",
    "    \n",
    "    # Prepare the answer choices layout as checkboxes in a vertical layout\n",
    "    checkboxList = []\n",
    "    for i in answerChoices:\n",
    "        checkboxList.append(widgets.Checkbox(description=i,indent=False))\n",
    "    answerChoiceLayout = widgets.VBox(checkboxList)\n",
    "    \n",
    "    # Prepare the prompt for output\n",
    "    printPrompt = widgets.Label(value = prompt)\n",
    "       \n",
    "    feedback = widgets.Output()\n",
    "    \n",
    "    def check_selection(b):\n",
    "        # TO DO: Check the submitted selections to see if they match with the identified correct answers\n",
    "        submittedAnswers = []\n",
    "        for i in range(len(checkboxList)):\n",
    "            if checkboxList[i].value:\n",
    "                submittedAnswers.append(i)\n",
    "        if submittedAnswers == correctAnswers:\n",
    "            s = \"You got it!\"\n",
    "        else:\n",
    "            s = \"That's not right.\"\n",
    "        with feedback:\n",
    "            clear_output()\n",
    "            print(s)\n",
    "        return\n",
    "    \n",
    "    check = widgets.Button(description=\"Submit\")\n",
    "    check.on_click(check_selection)\n",
    "    \n",
    "    return widgets.VBox([printPrompt, answerChoiceLayout, check, feedback])\n",
    "\n",
    "Q2 = multipleChoiceMultipleAnswer(\"Which of these protocols are stateless? (Select all that apply.)\",['HTTP','TCP','IP','FTP'],[0,2])\n",
    "\n",
    "display(Q2)"
   ]
  },
  {
   "cell_type": "code",
   "execution_count": null,
   "id": "c31e6e7b",
   "metadata": {},
   "outputs": [],
   "source": []
  }
 ],
 "metadata": {
  "kernelspec": {
   "display_name": "Python 3 (ipykernel)",
   "language": "python",
   "name": "python3"
  },
  "language_info": {
   "codemirror_mode": {
    "name": "ipython",
    "version": 3
   },
   "file_extension": ".py",
   "mimetype": "text/x-python",
   "name": "python",
   "nbconvert_exporter": "python",
   "pygments_lexer": "ipython3",
   "version": "3.9.8"
  }
 },
 "nbformat": 4,
 "nbformat_minor": 5
}
